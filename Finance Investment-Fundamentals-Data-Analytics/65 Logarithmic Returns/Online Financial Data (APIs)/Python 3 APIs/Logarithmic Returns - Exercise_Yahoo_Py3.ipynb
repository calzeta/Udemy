{
 "cells": [
  {
   "cell_type": "markdown",
   "metadata": {},
   "source": [
    "## Logarithmic Returns"
   ]
  },
  {
   "cell_type": "code",
   "execution_count": 1,
   "metadata": {},
   "outputs": [
    {
     "data": {
      "text/html": [
       "<div>\n",
       "<style scoped>\n",
       "    .dataframe tbody tr th:only-of-type {\n",
       "        vertical-align: middle;\n",
       "    }\n",
       "\n",
       "    .dataframe tbody tr th {\n",
       "        vertical-align: top;\n",
       "    }\n",
       "\n",
       "    .dataframe thead th {\n",
       "        text-align: right;\n",
       "    }\n",
       "</style>\n",
       "<table border=\"1\" class=\"dataframe\">\n",
       "  <thead>\n",
       "    <tr style=\"text-align: right;\">\n",
       "      <th></th>\n",
       "      <th>High</th>\n",
       "      <th>Low</th>\n",
       "      <th>Open</th>\n",
       "      <th>Close</th>\n",
       "      <th>Volume</th>\n",
       "      <th>Adj Close</th>\n",
       "    </tr>\n",
       "    <tr>\n",
       "      <th>Date</th>\n",
       "      <th></th>\n",
       "      <th></th>\n",
       "      <th></th>\n",
       "      <th></th>\n",
       "      <th></th>\n",
       "      <th></th>\n",
       "    </tr>\n",
       "  </thead>\n",
       "  <tbody>\n",
       "    <tr>\n",
       "      <th>2000-01-03</th>\n",
       "      <td>59.312500</td>\n",
       "      <td>56.000000</td>\n",
       "      <td>58.687500</td>\n",
       "      <td>58.281250</td>\n",
       "      <td>53228400.0</td>\n",
       "      <td>37.495686</td>\n",
       "    </tr>\n",
       "    <tr>\n",
       "      <th>2000-01-04</th>\n",
       "      <td>58.562500</td>\n",
       "      <td>56.125000</td>\n",
       "      <td>56.781250</td>\n",
       "      <td>56.312500</td>\n",
       "      <td>54119000.0</td>\n",
       "      <td>36.229057</td>\n",
       "    </tr>\n",
       "    <tr>\n",
       "      <th>2000-01-05</th>\n",
       "      <td>58.187500</td>\n",
       "      <td>54.687500</td>\n",
       "      <td>55.562500</td>\n",
       "      <td>56.906250</td>\n",
       "      <td>64059600.0</td>\n",
       "      <td>36.611080</td>\n",
       "    </tr>\n",
       "    <tr>\n",
       "      <th>2000-01-06</th>\n",
       "      <td>56.937500</td>\n",
       "      <td>54.187500</td>\n",
       "      <td>56.093750</td>\n",
       "      <td>55.000000</td>\n",
       "      <td>54976600.0</td>\n",
       "      <td>35.384666</td>\n",
       "    </tr>\n",
       "    <tr>\n",
       "      <th>2000-01-07</th>\n",
       "      <td>56.125000</td>\n",
       "      <td>53.656250</td>\n",
       "      <td>54.312500</td>\n",
       "      <td>55.718750</td>\n",
       "      <td>62013600.0</td>\n",
       "      <td>35.847076</td>\n",
       "    </tr>\n",
       "    <tr>\n",
       "      <th>...</th>\n",
       "      <td>...</td>\n",
       "      <td>...</td>\n",
       "      <td>...</td>\n",
       "      <td>...</td>\n",
       "      <td>...</td>\n",
       "      <td>...</td>\n",
       "    </tr>\n",
       "    <tr>\n",
       "      <th>2020-01-14</th>\n",
       "      <td>163.600006</td>\n",
       "      <td>161.720001</td>\n",
       "      <td>163.389999</td>\n",
       "      <td>162.130005</td>\n",
       "      <td>23477400.0</td>\n",
       "      <td>162.130005</td>\n",
       "    </tr>\n",
       "    <tr>\n",
       "      <th>2020-01-15</th>\n",
       "      <td>163.940002</td>\n",
       "      <td>162.570007</td>\n",
       "      <td>162.619995</td>\n",
       "      <td>163.179993</td>\n",
       "      <td>21417900.0</td>\n",
       "      <td>163.179993</td>\n",
       "    </tr>\n",
       "    <tr>\n",
       "      <th>2020-01-16</th>\n",
       "      <td>166.240005</td>\n",
       "      <td>164.029999</td>\n",
       "      <td>164.350006</td>\n",
       "      <td>166.169998</td>\n",
       "      <td>23865400.0</td>\n",
       "      <td>166.169998</td>\n",
       "    </tr>\n",
       "    <tr>\n",
       "      <th>2020-01-17</th>\n",
       "      <td>167.470001</td>\n",
       "      <td>165.429993</td>\n",
       "      <td>167.419998</td>\n",
       "      <td>167.100006</td>\n",
       "      <td>34371700.0</td>\n",
       "      <td>167.100006</td>\n",
       "    </tr>\n",
       "    <tr>\n",
       "      <th>2020-01-21</th>\n",
       "      <td>168.190002</td>\n",
       "      <td>166.429993</td>\n",
       "      <td>166.679993</td>\n",
       "      <td>166.500000</td>\n",
       "      <td>29502000.0</td>\n",
       "      <td>166.500000</td>\n",
       "    </tr>\n",
       "  </tbody>\n",
       "</table>\n",
       "<p>5044 rows × 6 columns</p>\n",
       "</div>"
      ],
      "text/plain": [
       "                  High         Low        Open       Close      Volume  \\\n",
       "Date                                                                     \n",
       "2000-01-03   59.312500   56.000000   58.687500   58.281250  53228400.0   \n",
       "2000-01-04   58.562500   56.125000   56.781250   56.312500  54119000.0   \n",
       "2000-01-05   58.187500   54.687500   55.562500   56.906250  64059600.0   \n",
       "2000-01-06   56.937500   54.187500   56.093750   55.000000  54976600.0   \n",
       "2000-01-07   56.125000   53.656250   54.312500   55.718750  62013600.0   \n",
       "...                ...         ...         ...         ...         ...   \n",
       "2020-01-14  163.600006  161.720001  163.389999  162.130005  23477400.0   \n",
       "2020-01-15  163.940002  162.570007  162.619995  163.179993  21417900.0   \n",
       "2020-01-16  166.240005  164.029999  164.350006  166.169998  23865400.0   \n",
       "2020-01-17  167.470001  165.429993  167.419998  167.100006  34371700.0   \n",
       "2020-01-21  168.190002  166.429993  166.679993  166.500000  29502000.0   \n",
       "\n",
       "             Adj Close  \n",
       "Date                    \n",
       "2000-01-03   37.495686  \n",
       "2000-01-04   36.229057  \n",
       "2000-01-05   36.611080  \n",
       "2000-01-06   35.384666  \n",
       "2000-01-07   35.847076  \n",
       "...                ...  \n",
       "2020-01-14  162.130005  \n",
       "2020-01-15  163.179993  \n",
       "2020-01-16  166.169998  \n",
       "2020-01-17  167.100006  \n",
       "2020-01-21  166.500000  \n",
       "\n",
       "[5044 rows x 6 columns]"
      ]
     },
     "execution_count": 1,
     "metadata": {},
     "output_type": "execute_result"
    }
   ],
   "source": [
    "import numpy as np\n",
    "from pandas_datareader import data as wb\n",
    "import matplotlib.pyplot as plt\n",
    "MSFT = wb.DataReader('MSFT', data_source='yahoo', start='2000-1-1')\n",
    "MSFT"
   ]
  },
  {
   "cell_type": "markdown",
   "metadata": {},
   "source": [
    "### Log Returns"
   ]
  },
  {
   "cell_type": "markdown",
   "metadata": {},
   "source": [
    "$$\n",
    "ln(\\frac{P_t}{P_{t-1}})\n",
    "$$"
   ]
  },
  {
   "cell_type": "markdown",
   "metadata": {},
   "source": [
    "Calculate the Log returns for Microsoft."
   ]
  },
  {
   "cell_type": "code",
   "execution_count": 2,
   "metadata": {},
   "outputs": [],
   "source": [
    "MSFT['log_return'] = np.log(MSFT['Adj Close'] / MSFT['Adj Close'].shift(1))"
   ]
  },
  {
   "cell_type": "markdown",
   "metadata": {},
   "source": [
    "Plot the results on a graph."
   ]
  },
  {
   "cell_type": "code",
   "execution_count": 3,
   "metadata": {},
   "outputs": [
    {
     "data": {
      "image/png": "[encoded data removed]",
      "text/plain": [
       "<Figure size 576x360 with 1 Axes>"
      ]
     },
     "metadata": {
      "needs_background": "light"
     },
     "output_type": "display_data"
    }
   ],
   "source": [
    "MSFT['log_return'].plot(figsize=(8,5))\n",
    "plt.show()"
   ]
  },
  {
   "cell_type": "markdown",
   "metadata": {},
   "source": [
    "Estimate the daily and the annual mean of the obtained log returns."
   ]
  },
  {
   "cell_type": "code",
   "execution_count": 5,
   "metadata": {},
   "outputs": [],
   "source": [
    "avg_return_d = MSFT['log_return'].mean()"
   ]
  },
  {
   "cell_type": "code",
   "execution_count": 6,
   "metadata": {},
   "outputs": [],
   "source": [
    "avg_return_a = MSFT['log_return'].mean() * 250"
   ]
  },
  {
   "cell_type": "markdown",
   "metadata": {},
   "source": [
    "Print the result in a presentable form."
   ]
  },
  {
   "cell_type": "code",
   "execution_count": 7,
   "metadata": {},
   "outputs": [
    {
     "name": "stdout",
     "output_type": "stream",
     "text": [
      "7.39 %\n"
     ]
    }
   ],
   "source": [
    "print (str(round(avg_return_a, 5) * 100) + ' %')"
   ]
  },
  {
   "cell_type": "markdown",
   "metadata": {},
   "source": [
    "****"
   ]
  },
  {
   "cell_type": "markdown",
   "metadata": {},
   "source": [
    "Repeat this exercise for any stock of interest to you. :)"
   ]
  }
 ],
 "metadata": {
  "kernelspec": {
   "display_name": "Python 3",
   "language": "python",
   "name": "python3"
  },
  "language_info": {
   "codemirror_mode": {
    "name": "ipython",
    "version": 3
   },
   "file_extension": ".py",
   "mimetype": "text/x-python",
   "name": "python",
   "nbconvert_exporter": "python",
   "pygments_lexer": "ipython3",
   "version": "3.7.3"
  }
 },
 "nbformat": 4,
 "nbformat_minor": 2
}
